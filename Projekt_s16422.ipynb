{
  "cells": [
    {
      "cell_type": "markdown",
      "id": "7a96f4da",
      "metadata": {
        "id": "7a96f4da"
      },
      "source": [
        "### 1. Import bibliotek"
      ]
    },
    {
      "cell_type": "code",
      "execution_count": 4,
      "id": "tribal-advertising",
      "metadata": {
        "id": "tribal-advertising"
      },
      "outputs": [],
      "source": [
        "import os\n",
        "import pandas as pd\n",
        "\n",
        "from keras.models import Sequential \n",
        "from keras.layers import Dense\n",
        "\n",
        "from sklearn.preprocessing import LabelEncoder\n",
        "from sklearn.model_selection import train_test_split\n",
        "\n",
        "from sklearn.metrics import mean_squared_error\n",
        "from sklearn.metrics import mean_absolute_error\n",
        "from xgboost import XGBRegressor\n",
        "from sklearn.linear_model import LinearRegression\n",
        "\n",
        "import matplotlib.pyplot as plt\n",
        "import seaborn as sns"
      ]
    },
    {
      "cell_type": "code",
      "execution_count": 9,
      "id": "FjuwT1QI67Te",
      "metadata": {
        "colab": {
          "base_uri": "https://localhost:8080/"
        },
        "id": "FjuwT1QI67Te",
        "outputId": "f6ada2a8-902c-4123-d2fa-9f94dae83e88"
      },
      "outputs": [
        {
          "output_type": "stream",
          "name": "stdout",
          "text": [
            "Mounted at /content/drive\n"
          ]
        }
      ],
      "source": [
        "from google.colab import drive\n",
        "drive.mount('/content/drive')\n",
        "os.chdir('/content/drive/My Drive/')\n",
        "\n",
        "# Z tego fragmentu kodu korzystamy tylko przy pracy w Google Colab"
      ]
    },
    {
      "cell_type": "markdown",
      "id": "2feb2c32",
      "metadata": {
        "id": "2feb2c32"
      },
      "source": [
        "### 2. Przygotowanie danych do analizy"
      ]
    },
    {
      "cell_type": "code",
      "execution_count": 10,
      "id": "da8589e9",
      "metadata": {
        "colab": {
          "base_uri": "https://localhost:8080/",
          "height": 35
        },
        "id": "da8589e9",
        "outputId": "5466aace-17bf-499e-fc82-75cc7420c589"
      },
      "outputs": [
        {
          "output_type": "execute_result",
          "data": {
            "application/vnd.google.colaboratory.intrinsic+json": {
              "type": "string"
            },
            "text/plain": [
              "'/content/drive/My Drive'"
            ]
          },
          "metadata": {},
          "execution_count": 10
        }
      ],
      "source": [
        "os.getcwd()"
      ]
    },
    {
      "cell_type": "code",
      "execution_count": 11,
      "id": "forced-reporter",
      "metadata": {
        "id": "forced-reporter"
      },
      "outputs": [],
      "source": [
        "base_data = pd.read_csv(\"StudentsPerformance.csv\")\n",
        "base_data.columns\n",
        "\n",
        "cols = [\"reading score\", \"gender\", \"race/ethnicity\", \"parental level of education\", \"lunch\", \"test preparation course\"]\n",
        "data = base_data[cols].copy()"
      ]
    },
    {
      "cell_type": "code",
      "execution_count": 12,
      "id": "580495c6",
      "metadata": {
        "colab": {
          "base_uri": "https://localhost:8080/"
        },
        "id": "580495c6",
        "outputId": "8151bc09-acf0-4d87-ab05-c8064ef46129"
      },
      "outputs": [
        {
          "output_type": "execute_result",
          "data": {
            "text/plain": [
              "reading score                  False\n",
              "gender                         False\n",
              "race/ethnicity                 False\n",
              "parental level of education    False\n",
              "lunch                          False\n",
              "test preparation course        False\n",
              "dtype: bool"
            ]
          },
          "metadata": {},
          "execution_count": 12
        }
      ],
      "source": [
        "data.isnull().any()"
      ]
    },
    {
      "cell_type": "code",
      "execution_count": 13,
      "id": "7053913d",
      "metadata": {
        "id": "7053913d"
      },
      "outputs": [],
      "source": [
        "encoder = LabelEncoder()\n",
        "data.loc[:,\"gender\"] = encoder.fit_transform(data.loc[:,\"gender\"])\n",
        "data.loc[:,\"race/ethnicity\"] = encoder.fit_transform(data.loc[:,\"race/ethnicity\"])\n",
        "data.loc[:,\"parental level of education\"] = encoder.fit_transform(data.loc[:,\"parental level of education\"])\n",
        "data.loc[:,\"lunch\"] = encoder.fit_transform(data.loc[:,\"lunch\"])\n",
        "data.loc[:,\"test preparation course\"] = encoder.fit_transform(data.loc[:,\"test preparation course\"])"
      ]
    },
    {
      "cell_type": "code",
      "source": [
        "plt.figure(figsize=(10, 5)) \n",
        "heatmap = sns.heatmap(data.corr(), vmin=-1, vmax=1, annot=True) "
      ],
      "metadata": {
        "colab": {
          "base_uri": "https://localhost:8080/",
          "height": 448
        },
        "id": "3vguvTQMa7tE",
        "outputId": "a3b59cba-a311-4229-80a8-84e2ce540302"
      },
      "id": "3vguvTQMa7tE",
      "execution_count": 19,
      "outputs": [
        {
          "output_type": "display_data",
          "data": {
            "image/png": "[encoded data removed]",
            "text/plain": [
              "<Figure size 720x360 with 2 Axes>"
            ]
          },
          "metadata": {
            "needs_background": "light"
          }
        }
      ]
    },
    {
      "cell_type": "markdown",
      "id": "5ff38f6b",
      "metadata": {
        "id": "5ff38f6b"
      },
      "source": [
        "### 3. Trenowanie modelu"
      ]
    },
    {
      "cell_type": "code",
      "source": [
        "print(data)"
      ],
      "metadata": {
        "colab": {
          "base_uri": "https://localhost:8080/"
        },
        "id": "X6hphO9PQh38",
        "outputId": "a8a8ac6b-bcec-4e5d-fb3a-c3d02f80e0cd"
      },
      "id": "X6hphO9PQh38",
      "execution_count": 14,
      "outputs": [
        {
          "output_type": "stream",
          "name": "stdout",
          "text": [
            "     reading score  gender  ...  lunch  test preparation course\n",
            "0               72       0  ...      1                        1\n",
            "1               90       0  ...      1                        0\n",
            "2               95       0  ...      1                        1\n",
            "3               57       1  ...      0                        1\n",
            "4               78       1  ...      1                        1\n",
            "..             ...     ...  ...    ...                      ...\n",
            "995             99       0  ...      1                        0\n",
            "996             55       1  ...      0                        1\n",
            "997             71       0  ...      0                        0\n",
            "998             78       0  ...      1                        0\n",
            "999             86       0  ...      0                        1\n",
            "\n",
            "[1000 rows x 6 columns]\n"
          ]
        }
      ]
    },
    {
      "cell_type": "code",
      "execution_count": 20,
      "id": "banned-rabbit",
      "metadata": {
        "id": "banned-rabbit"
      },
      "outputs": [],
      "source": [
        "y = data.iloc[:,0]\n",
        "x = data.iloc[:,1:6]\n",
        "X_train, X_test, y_train, y_test = train_test_split(x, y, test_size = 0.25, random_state = 0)"
      ]
    },
    {
      "cell_type": "code",
      "source": [
        "lr = LinearRegression()\n",
        "lr.fit(X_train, y_train)\n",
        "\n",
        "mean_squared_error(y_test, lr.predict(X_test))\n",
        "mean_absolute_error(y_test, lr.predict(X_test))"
      ],
      "metadata": {
        "colab": {
          "base_uri": "https://localhost:8080/"
        },
        "id": "gxOCmNusb3xf",
        "outputId": "a55260f3-a4dd-4ee3-e25f-4e323da51887"
      },
      "id": "gxOCmNusb3xf",
      "execution_count": 21,
      "outputs": [
        {
          "output_type": "execute_result",
          "data": {
            "text/plain": [
              "10.781087132946848"
            ]
          },
          "metadata": {},
          "execution_count": 21
        }
      ]
    },
    {
      "cell_type": "code",
      "source": [
        "xgbr = XGBRegressor(max_depth = 6)\n",
        "xgbr.fit(X_train,y_train)\n",
        "\n",
        "mean_squared_error(y_test, xgbr.predict(X_test))\n",
        "mean_absolute_error(y_test, xgbr.predict(X_test))"
      ],
      "metadata": {
        "colab": {
          "base_uri": "https://localhost:8080/"
        },
        "id": "8x2ePLrOfa-w",
        "outputId": "f16aa798-3aee-465a-d0a5-3ea25e5cbe2b"
      },
      "id": "8x2ePLrOfa-w",
      "execution_count": 22,
      "outputs": [
        {
          "output_type": "stream",
          "name": "stdout",
          "text": [
            "[19:44:32] WARNING: /workspace/src/objective/regression_obj.cu:152: reg:linear is now deprecated in favor of reg:squarederror.\n"
          ]
        },
        {
          "output_type": "execute_result",
          "data": {
            "text/plain": [
              "12.231686798095703"
            ]
          },
          "metadata": {},
          "execution_count": 22
        }
      ]
    }
  ],
  "metadata": {
    "colab": {
      "collapsed_sections": [],
      "name": "Projekt_s16422.ipynb",
      "provenance": []
    },
    "kernelspec": {
      "display_name": "Python 3 (ipykernel)",
      "language": "python",
      "name": "python3"
    },
    "language_info": {
      "codemirror_mode": {
        "name": "ipython",
        "version": 3
      },
      "file_extension": ".py",
      "mimetype": "text/x-python",
      "name": "python",
      "nbconvert_exporter": "python",
      "pygments_lexer": "ipython3",
      "version": "3.8.12"
    }
  },
  "nbformat": 4,
  "nbformat_minor": 5
}